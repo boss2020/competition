{
 "cells": [
  {
   "cell_type": "code",
   "execution_count": 1,
   "metadata": {},
   "outputs": [
    {
     "name": "stderr",
     "output_type": "stream",
     "text": [
      "Using TensorFlow backend.\n"
     ]
    }
   ],
   "source": [
    "import os\n",
    "import tensorflow as tf\n",
    "import keras.backend.tensorflow_backend as KTF\n",
    "\n",
    "#进行配置，每个GPU使用90%上限现存\n",
    "os.environ[\"CUDA_VISIBLE_DEVICES\"]=\"0\" # 使用编号为0，1号的GPU\n",
    "#config = tf.ConfigProto()\n",
    "#config.gpu_options.per_process_gpu_memory_fraction = 0.9 # 每个GPU上限控制在90%以内\n",
    "#session = tf.Session(config=config)\n",
    "# 设置session\n",
    "#KTF.set_session(session)"
   ]
  },
  {
   "cell_type": "code",
   "execution_count": 2,
   "metadata": {},
   "outputs": [
    {
     "name": "stdout",
     "output_type": "stream",
     "text": [
      "output.shape = ***\n",
      "torch.Size([5, 3, 20])\n",
      "hn = ***\n",
      "torch.Size([2, 3, 20])\n"
     ]
    }
   ],
   "source": [
    "import  torch\n",
    "import  torch.nn  as  nn\n",
    "rnn = nn.RNN(10,20,2)\n",
    "#10为输入x的特征大小，20为隐藏层h的特征大小\n",
    "#2为循环层的数量(RNN中重复的部分)\n",
    "#input_size = 10,hidden_size = 20,num_layers = 2\n",
    "input = torch.randn(5,3,10)\n",
    "h0 = torch.randn(2,3,20)\n",
    "#h0不初始化则全部为0\n",
    "output,hn = rnn(input,h0)\n",
    "print('output.shape = ***')\n",
    "print(output.shape)\n",
    "print('hn = ***')\n",
    "print(hn.shape)"
   ]
  },
  {
   "cell_type": "markdown",
   "metadata": {},
   "source": [
    "rnn = nn.RNN(10,20,2),nn.RNN(batch_size,hidden_size,num_layers)\n",
    "input_size = 10,hidden_size = 20,num_layers = 2\n",
    "input = torch.randn(5,3,10)\n",
    "h0 = torch.randn(2,3,20)\n",
    "这里的hidden_size = 20\n",
    "对应的公式为$[batch_size,input_dim]*[input_dim,num_hiddens]+[batch_size,num_hiddens]*[num_hiddens,num_hiddens]+bias$\n",
    "batch_size = 2,所以这里对应的公式为$[2,10]*[10,20]+[2,20]*[20,20]+bias$\n",
    "这中间$[2,10]$是这一次提取的对应的矩阵的内容,$[2,20]$是上一次计算对应的结果内容\n",
    "原先input的内容矩阵的形式为(5,3,10),这里的第二维最好与batch相同,这样每次可以出现整数倍"
   ]
  },
  {
   "cell_type": "markdown",
   "metadata": {},
   "source": [
    "input_size   输入x的特征大小(以mnist图像为例，特征大小为28*28 = 784)\n",
    "hidden_size   隐藏层h的特征大小\n",
    "num_layers    循环层的数量（RNN中重复的部分）\n",
    "nonlinearity   激活函数 默认为tanh，可以设置为relu\n",
    "bias   是否设置偏置，默认为True\n",
    "batch_first   默认为false, 设置为True之后，输入输出为(batch_size, seq_len, input_size)\n",
    "dropout   默认为0\n",
    "bidirectional   默认为False，True设置为RNN为双向\n",
    "\n",
    "输入RNN网络与输出的参数\n",
    "（1）输入：input：(seq_len，batch_size，input_size)    #（序列长度，batch_size，特征大小（数量））\n",
    "h0：（num_layers乘directions，batch_size，hidden_size）\n",
    "（2）输出：hn：（num_layers乘directions，batch_size，hidden_size）\n",
    "output：(seq_len，batch_size，hidden_size*directions)\n",
    "【注】bidirectional = True,则directions=2,否则directions=1"
   ]
  },
  {
   "cell_type": "code",
   "execution_count": 6,
   "metadata": {},
   "outputs": [
    {
     "name": "stdout",
     "output_type": "stream",
     "text": [
      "torch.Size([35, 2, 256]) 1 torch.Size([1, 2, 256])\n"
     ]
    }
   ],
   "source": [
    "vocab_size = 1027\n",
    "num_hiddens = 256\n",
    "rnn_layer = nn.RNN(input_size=vocab_size, hidden_size=num_hiddens, )\n",
    "# 定义模型， 其中vocab_size = 1027, hidden_size = 256\n",
    "num_steps = 35\n",
    "batch_size = 2\n",
    "state = None    # 初始隐藏层状态可以不定义\n",
    "X = torch.rand(num_steps, batch_size, vocab_size)\n",
    "#x = [35,2,256]\n",
    "#初始隐藏层状态不定义\n",
    "Y, state_new = rnn_layer(X, state)\n",
    "print(Y.shape, len(state_new), state_new.shape)"
   ]
  },
  {
   "cell_type": "markdown",
   "metadata": {},
   "source": [
    "具体计算过程\n",
    "$H_{t}=input*W_{xh}+H_{t-1}*W_{hh}+bias$\n",
    "$[batch_size,input_dim]*[input_dim,num_hiddens]+[batch_size,num_hiddens]*[num_hiddens,num_hiddens]+bias$\n",
    "这里面的batch_size=2,input_dim=256,num_hiddens=256\n",
    "$[2,256]*[256,256]+[2,256]*[256,256]+bias$\n",
    "可以发现每个隐藏状态形状都是$[256,256]$,起始输出也是一样的\n",
    "注意：上面为了方便假设num_step=1"
   ]
  },
  {
   "cell_type": "code",
   "execution_count": null,
   "metadata": {},
   "outputs": [],
   "source": []
  }
 ],
 "metadata": {
  "kernelspec": {
   "display_name": "Python 3",
   "language": "python",
   "name": "python3"
  },
  "language_info": {
   "codemirror_mode": {
    "name": "ipython",
    "version": 3
   },
   "file_extension": ".py",
   "mimetype": "text/x-python",
   "name": "python",
   "nbconvert_exporter": "python",
   "pygments_lexer": "ipython3",
   "version": "3.7.3"
  }
 },
 "nbformat": 4,
 "nbformat_minor": 2
}
